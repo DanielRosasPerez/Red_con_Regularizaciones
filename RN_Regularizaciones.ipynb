{
 "cells": [
  {
   "cell_type": "code",
   "execution_count": 221,
   "metadata": {},
   "outputs": [],
   "source": [
    "import numpy as np\n",
    "import matplotlib.pyplot as plt\n",
    "%matplotlib inline"
   ]
  },
  {
   "cell_type": "markdown",
   "metadata": {},
   "source": [
    "***"
   ]
  },
  {
   "cell_type": "markdown",
   "metadata": {},
   "source": [
    "**NOTA:** En este notebook he decidido no incluir a las funciones de activación sigmoide y tanh, debido a que \"relu\" y \"leaky relu\" tuvieron un mejor desempeño, es por esto que para las capas ocultas solo se hace uso de estas dos funciones, mientras que para la capa de salida (y debido a que la clasificación es multi-clase), haremos uso exclusivamente de la función de activación softmax."
   ]
  },
  {
   "cell_type": "markdown",
   "metadata": {},
   "source": [
    "***"
   ]
  },
  {
   "cell_type": "code",
   "execution_count": 222,
   "metadata": {},
   "outputs": [],
   "source": [
    "from mnist import MNIST\n",
    "\n",
    "Datos_MNIST = MNIST(\"MNIST_dataset\") # Cargamos la totalidad de datos de MNIST.\n",
    "\n",
    "imagenes_entrenamiento, etiquetas_entrenamiento = Datos_MNIST.load_training() # Cargando datos de entrenamiento.\n",
    "imagenes_testeo, etiquetas_testeo = Datos_MNIST.load_testing() # Cargando datos para probar nuestra red una vez se halla entrenado.\n",
    "\n",
    "imagenes_entrenamiento, etiquetas_entrenamiento = np.asarray(imagenes_entrenamiento), np.asarray(etiquetas_entrenamiento)\n",
    "imagenes_testeo, etiquetas_testeo = np.asarray(imagenes_testeo), np.asarray(etiquetas_testeo)\n",
    "\n",
    "imagenes_entrenamiento = (imagenes_entrenamiento/imagenes_entrenamiento.max()).astype(\"float64\")\n",
    "imagenes_testeo = (imagenes_testeo/imagenes_testeo.max()).astype(\"float64\")"
   ]
  },
  {
   "cell_type": "code",
   "execution_count": 223,
   "metadata": {},
   "outputs": [],
   "source": [
    "def one_hot_encode (etiquetas):\n",
    "    \"\"\"Esta función nos arroja un vector one_hot para cada etiqueta.\"\"\"\n",
    "    \n",
    "    cantidad_clases = len(set(etiquetas))\n",
    "    vector_OneHot = np.zeros(shape=(etiquetas.shape[0], cantidad_clases), dtype=\"float64\")\n",
    "    \n",
    "    for i in range(vector_OneHot.shape[0]):\n",
    "        vector_OneHot[i,etiquetas[i]] = 1\n",
    "        \n",
    "    return vector_OneHot"
   ]
  },
  {
   "cell_type": "code",
   "execution_count": 224,
   "metadata": {},
   "outputs": [],
   "source": [
    "etiquetas_entrenamiento_ONE_HOT = one_hot_encode(etiquetas_entrenamiento)\n",
    "etiquetas_testeo_ONE_HOT = one_hot_encode(etiquetas_testeo)"
   ]
  },
  {
   "cell_type": "code",
   "execution_count": 225,
   "metadata": {},
   "outputs": [],
   "source": [
    "Datos_Entrenamiento = imagenes_entrenamiento[:50000]\n",
    "Etiquetas_Entrenamiento = etiquetas_entrenamiento_ONE_HOT[:50000]\n",
    "\n",
    "Datos_Validacion = imagenes_entrenamiento[50000:]\n",
    "Etiquetas_Validacion = etiquetas_entrenamiento_ONE_HOT[50000:]"
   ]
  },
  {
   "cell_type": "markdown",
   "metadata": {},
   "source": [
    "***"
   ]
  },
  {
   "cell_type": "markdown",
   "metadata": {},
   "source": [
    "Funciones de activación:"
   ]
  },
  {
   "cell_type": "code",
   "execution_count": 226,
   "metadata": {},
   "outputs": [],
   "source": [
    "# FUNCIONES DE ACTIVACIÓN PARA LAS CAPAS OCULTAS:\n",
    "\n",
    "ReLU = lambda x: (x > 0)*x\n",
    "Leaky_ReLU = lambda arreglo_datos: np.asarray([valor if (valor > 0) else 0.01*valor for vector_x_datos in arreglo_datos \n",
    "                                                        for valor in vector_x_datos]).reshape(arreglo_datos.shape)\n",
    "\n",
    "# FUNCIONES DE ACTIVACIÓN PARA LAS CAPAS DE SALIDA:\n",
    "\n",
    "Softmax = lambda vector: np.asarray([np.exp(x)/sum(np.exp(x)) for x in vector])"
   ]
  },
  {
   "cell_type": "markdown",
   "metadata": {},
   "source": [
    "Derivadas de las funciones de activación:"
   ]
  },
  {
   "cell_type": "code",
   "execution_count": 227,
   "metadata": {},
   "outputs": [],
   "source": [
    "# DERIVADAS DE LAS FUNCIONES DE ACTIVACIÓN PARA LAS CAPAS OCULTAS:\n",
    "\n",
    "ReLU_Derivada = lambda x: (x > 0)*1 # Si x > 0 devuelve 1, de lo contario 0.\n",
    "\n",
    "# Si x > 0 devuelve 1, de lo contrario 0.01:\n",
    "Leaky_ReLU_Derivada = lambda arreglo_datos: np.asarray([1 if (valor > 0) else 0.01 for vector_x_datos in arreglo_datos \n",
    "                                                        for valor in vector_x_datos]).reshape(arreglo_datos.shape)\n",
    "\n",
    "# DERIVADA DE LA FUNCIÓN DE ACTIVACIÓN PARA LA CAPA DE SALIDA:\n",
    "\n",
    "Softmax_Derivada = lambda arreglo_datos, arreglo_etiquetas: np.asarray([vector_x_dato - etiquetas_x_dato \n",
    "                                                                 for vector_x_dato,etiquetas_x_dato in zip(arreglo_datos,arreglo_etiquetas)])"
   ]
  },
  {
   "cell_type": "markdown",
   "metadata": {},
   "source": [
    "Creamos una función para inicializar los parámetros:"
   ]
  },
  {
   "cell_type": "code",
   "execution_count": 246,
   "metadata": {},
   "outputs": [],
   "source": [
    "def inicializacion_parametros (n_x_c):\n",
    "    \"\"\"Esta función inicializa los parámetros de nuestra red.\"\"\"\n",
    "    \n",
    "    # INICIALIZAMOS TODOS LOS \"BIAS\" EN 0:\n",
    "    \n",
    "    Bias = [np.zeros(shape=(i,)) for i in n_x_c[1:]] # n_x_c = neuronas por capa.\n",
    "        \n",
    "    # INICIALIZAMOS LOS PESOS HACIENDO USO DEL MÉTODO DE \"GLOROT\" (TAMBIÉN CONOCIDO COMO \"XAVIER\"):\n",
    "    \n",
    "    Pesos = [np.random.normal(0.0,np.sqrt(2/(n_x_c[i-1] + n_x_c[i])), (n_x_c[i-1], n_x_c[i]))\n",
    "                        for i in range(1,len(n_x_c))] # n_x_c = neuronas por capa.\n",
    "        \n",
    "    return Pesos, Bias"
   ]
  },
  {
   "cell_type": "markdown",
   "metadata": {},
   "source": [
    "Inicializamos las funciones restantes que nos servirán de ayuda para entrenar nuestro modelo:"
   ]
  },
  {
   "cell_type": "code",
   "execution_count": 229,
   "metadata": {},
   "outputs": [],
   "source": [
    "def generador(x):\n",
    "    \"\"\"Esta función nos devuelve el número siguiente cada que éste es solcitado, permitiendo ahorrar memoria.\"\"\"\n",
    "    \n",
    "    for i in range(x):\n",
    "        \n",
    "        yield i"
   ]
  },
  {
   "cell_type": "code",
   "execution_count": 230,
   "metadata": {},
   "outputs": [],
   "source": [
    "def error(predicciones, salidas): # Esta función de error será la misma para el modelo sin regularización y con dropout.\n",
    "    \"\"\"Esta función nos duevelve un vector columna que contiene el error por cada muestra en el lote.\"\"\"\n",
    "    \n",
    "    Vector_Predicciones = np.sum(predicciones * salidas, axis=1)\n",
    "    \n",
    "    Vector_Error = (-1)*(np.log(Vector_Predicciones)) # Entropía Categórica Cruzada.\n",
    "    \n",
    "    return Vector_Error"
   ]
  },
  {
   "cell_type": "code",
   "execution_count": 231,
   "metadata": {},
   "outputs": [],
   "source": [
    "def error_mas_penalizacion_L2(predicciones, salidas, pesos, bias, lmbda):\n",
    "    \"\"\"Esta función calcula el error por cada muestra en el lote y además, suma una penalización L2 a este vector resultante.\"\"\"\n",
    "    \n",
    "    penalizacion = lmbda * np.sum([np.sum(pesos_x_capa**2) + np.sum(bias_x_capa**2) for pesos_x_capa, bias_x_capa in zip(pesos,bias)])\n",
    "    \n",
    "    E = error(predicciones, salidas) + penalizacion\n",
    "    \n",
    "    return E"
   ]
  },
  {
   "cell_type": "code",
   "execution_count": 232,
   "metadata": {},
   "outputs": [],
   "source": [
    "def error_promedio_por_lote(vector_de_errores):\n",
    "    \"\"\"Esta función nos devuelve el error promedio por lote.\"\"\"\n",
    "    \n",
    "    Error_Promedio = np.sum(vector_de_errores) / len(vector_de_errores)\n",
    "    \n",
    "    return Error_Promedio"
   ]
  },
  {
   "cell_type": "code",
   "execution_count": 233,
   "metadata": {},
   "outputs": [],
   "source": [
    "def FeedForward(Pesos, Bias, entradas, salidas, FA_CO): # Esta función nos servirá para L2 y para el modelo sin regularización.\n",
    "    \"\"\"Esta función lleva a cabo la propagación hacia adelante.\"\"\"\n",
    "            \n",
    "    Predicciones_x_Capa = list() # Esta lista guardará los vectores de predicción de cada capa.\n",
    "            \n",
    "    Capa_Previa = entradas.copy()\n",
    "                \n",
    "    # FUNCIONES DE ACTIVACIÓN PARA LAS CAPAS OCULTAS:\n",
    "    \n",
    "    if FA_CO == 0: # ReLU.\n",
    "                \n",
    "        for j in range(len(Pesos)-1):\n",
    "            \n",
    "            Capa_Previa = ReLU(Capa_Previa @ Pesos[j] + Bias[j])\n",
    "            Predicciones_x_Capa.append(Capa_Previa)\n",
    "                \n",
    "    else: # Leaky_ReLU.\n",
    "                \n",
    "        for j in range(len(Pesos)-1):\n",
    "                \n",
    "            Capa_Previa = Leaky_ReLU(Capa_Previa @ Pesos[j] + Bias[j])\n",
    "            Predicciones_x_Capa.append(Capa_Previa)\n",
    "    \n",
    "    # FUNCIÓN DE ACTIVACIÓN PARA LA CAPA DE SALIDA:\n",
    "    \n",
    "    Capa_Previa = Softmax(Capa_Previa @ Pesos[-1] + Bias[-1])\n",
    "    Predicciones_x_Capa.append(Capa_Previa)\n",
    "        \n",
    "    return Predicciones_x_Capa"
   ]
  },
  {
   "cell_type": "code",
   "execution_count": 234,
   "metadata": {},
   "outputs": [],
   "source": [
    "def FeedForward_DP(Pesos, Bias, entradas, salidas, FA_CO):\n",
    "    \"\"\"Esta función lleva a cabo la propagación hacia adelante.\"\"\"\n",
    "            \n",
    "    Predicciones_x_Capa = list() # Esta lista guardará los vectores de predicción de cada capa.\n",
    "            \n",
    "    Capa_Previa = entradas.copy()\n",
    "    \n",
    "    vectores_dropout = list()\n",
    "                \n",
    "    # FUNCIONES DE ACTIVACIÓN PARA LAS CAPAS OCULTAS:\n",
    "    \n",
    "    if FA_CO == 0: # ReLU.\n",
    "                \n",
    "        for j in range(len(Pesos)-1):\n",
    "            \n",
    "            dropout = np.random.randint(2,size=(Capa_Previa.shape[0], Pesos[j].shape[1]))\n",
    "            \n",
    "            Capa_Previa = ReLU(Capa_Previa @ Pesos[j] + Bias[j]) * dropout * 2\n",
    "            \n",
    "            Predicciones_x_Capa.append(Capa_Previa)\n",
    "            vectores_dropout.append(dropout)\n",
    "                \n",
    "    else: # Leaky_ReLU.\n",
    "                \n",
    "        for j in range(len(Pesos)-1):\n",
    "            \n",
    "            dropout = np.random.randint(2,size=(Capa_Previa.shape[0], Pesos[j].shape[1]))\n",
    "                \n",
    "            Capa_Previa = Leaky_ReLU(Capa_Previa @ Pesos[j] + Bias[j]) * dropout * 2\n",
    "            \n",
    "            Predicciones_x_Capa.append(Capa_Previa)\n",
    "            vectores_dropout.append(dropout)\n",
    "                \n",
    "    # FUNCIÓN DE ACTIVACIÓN PARA LA CAPA DE SALIDA:\n",
    "    \n",
    "    Capa_Previa = Softmax(Capa_Previa @ Pesos[-1] + Bias[-1])\n",
    "    Predicciones_x_Capa.append(Capa_Previa)\n",
    "        \n",
    "    return Predicciones_x_Capa, vectores_dropout"
   ]
  },
  {
   "cell_type": "code",
   "execution_count": 235,
   "metadata": {},
   "outputs": [],
   "source": [
    "def BackPropagation(Predicciones_x_Capa, Pesos, salidas, FA_CO):\n",
    "    \"\"\"Esta función ejecuta el algoritmo de backpropagation, el cual es el encargado de reducir el error, es decir, se encarga\n",
    "    del aprendizaje de nuestra red.\"\"\"\n",
    "    \n",
    "    Errores_Delta = list()\n",
    "    \n",
    "    # CALCULAMOS LOS ERRORES DELTA (O DELTAS), DE LAS NEURONAS DE LA CAPA DE SALIDA:\n",
    "        \n",
    "    Deltas_Capa_Salida = Softmax_Derivada(Predicciones_x_Capa[-1], salidas)\n",
    "\n",
    "    Errores_Delta.append(Deltas_Capa_Salida)\n",
    "    \n",
    "    # CALCULAMOS LOS ERRORES DELTA (O DELTAS), DE LAS NEURONAS DE LAS CAPAS OCULTAS:\n",
    "    \n",
    "    if FA_CO == 0: # ReLU.\n",
    "        \n",
    "        Derivadas_ReLU = [ReLU_Derivada(i) for i in Predicciones_x_Capa[:-1:]]\n",
    "        \n",
    "        for j in range(len(Pesos)-1):\n",
    "            \n",
    "            Deltas = Derivadas_ReLU[-(j+1)] * (Pesos[-(j+1)].dot(Errores_Delta[j].T)).T # Derivada_FA * (Producto_Punto)\n",
    "            Errores_Delta.append(Deltas)\n",
    "        \n",
    "    else: # Leaky_ReLU.\n",
    "                \n",
    "        Derivadas_Leaky_ReLU = [Leaky_ReLU_Derivada(i) for i in Predicciones_x_Capa[:-1:]]\n",
    "        \n",
    "        for j in range(len(Pesos)-1):\n",
    "                \n",
    "            Deltas = Derivadas_Leaky_ReLU[-(j+1)] * (Pesos[-(j+1)].dot(Errores_Delta[j].T)).T # Derivada_FA * (Producto_Punto)\n",
    "            Errores_Delta.append(Deltas)\n",
    "            \n",
    "    Errores_Delta.reverse()\n",
    "            \n",
    "    return Errores_Delta # o Deltas, simplemente."
   ]
  },
  {
   "cell_type": "code",
   "execution_count": 236,
   "metadata": {},
   "outputs": [],
   "source": [
    "def Actualizacion_Parametros(tamaño_lote, Errores_Delta, entradas, Predicciones_x_Capa, Pesos, Bias, alfa):\n",
    "    \"\"\"Esta función lleva a cabo la actualización de los Pesos y de los Bias de toda la red, para los modelos sin regularización y \n",
    "    con regularización dropout.\"\"\"\n",
    "    \n",
    "    # REALIZAMOS UNOS PEQUEÑOS AJUSTES PREVIO A INICIAR LA ACTUALIZACIÓN DE PARÁMETROS:\n",
    "    \n",
    "    Predicciones_x_Capa.insert(0, entradas) # Agregamos el valor de las entradas para poder calcular el\n",
    "    # gradiente promedio de los parámetros de la primer capa (o más precisamente, de los parámetros que se encuentran entre la capa de entrada\n",
    "    # y la 1er capa oculta).\n",
    "    \n",
    "    # COMIENZA LA ACTUALIZACIÓN DE PARÁMETROS:\n",
    "    \n",
    "    Pesos = [Pesos[j] - alfa * (Predicciones_x_Capa[j].T.dot(Errores_Delta[j]) / tamaño_lote) \n",
    "                        for j in range(len(Errores_Delta))]\n",
    "    \n",
    "    Bias = [Bias[j] - alfa * (sum(Errores_Delta[j]) / tamaño_lote) \n",
    "                        for j in range(len(Errores_Delta))]\n",
    "    \n",
    "    return Pesos, Bias"
   ]
  },
  {
   "cell_type": "code",
   "execution_count": 237,
   "metadata": {},
   "outputs": [],
   "source": [
    "def Actualizacion_Parametros_L2(tamaño_lote, Errores_Delta, entradas, Predicciones_x_Capa, Pesos, Bias, alfa, lmbda):\n",
    "    \"\"\"Esta función lleva a cabo la actualización de los Pesos y de los Bias de toda la red, para los modelos con penalización L2.\"\"\"\n",
    "    \n",
    "    # REALIZAMOS UNOS PEQUEÑOS AJUSTES PREVIO A INICIAR LA ACTUALIZACIÓN DE PARÁMETROS:\n",
    "    \n",
    "    Predicciones_x_Capa.insert(0, entradas) # Agregamos el valor de las entradas para poder calcular el\n",
    "    # gradiente promedio de los parámetros de la primer capa (o más precisamente, de los parámetros que se encuentran entre la capa de entrada\n",
    "    # y la 1er capa oculta).\n",
    "    \n",
    "    # COMIENZA LA ACTUALIZACIÓN DE PARÁMETROS:\n",
    "    \n",
    "    Pesos = [Pesos[j] * (1 - 2*alfa*lmbda) - alfa * (Predicciones_x_Capa[j].T.dot(Errores_Delta[j]) / tamaño_lote) \n",
    "                 for j in range(len(Errores_Delta))]\n",
    "    \n",
    "    Bias = [Bias[j] * (1 - 2*alfa*lmbda) - alfa * (sum(Errores_Delta[j]) / tamaño_lote)\n",
    "                            for j in range(len(Errores_Delta))]\n",
    "    \n",
    "    return Pesos, Bias"
   ]
  },
  {
   "cell_type": "code",
   "execution_count": 238,
   "metadata": {},
   "outputs": [],
   "source": [
    "def Precision_y_Validacion(Pesos, Bias, entradas, salidas, FA_CO):\n",
    "    \"\"\"Esta función calcula la precisión y el error sobre los datos ingresados.\"\"\"\n",
    "            \n",
    "    Predicciones = FeedForward(Pesos, Bias, entradas, salidas, FA_CO)\n",
    "    \n",
    "    Aciertos = (np.argmax(Predicciones[-1], axis=1) == np.argmax(salidas, axis=1)).sum()\n",
    "    \n",
    "    Vector_de_Errores = error(Predicciones[-1], salidas)\n",
    "    Error_Promedio = error_promedio_por_lote(Vector_de_Errores)\n",
    "    \n",
    "    Precision = (Aciertos / len(salidas)) * 100\n",
    "    \n",
    "    return Precision, Error_Promedio*100"
   ]
  },
  {
   "cell_type": "code",
   "execution_count": 239,
   "metadata": {},
   "outputs": [],
   "source": [
    "def Predicciones(Pesos, Bias, entradas, salidas, FA_CO):\n",
    "    \"\"\"Esta función realiza inferencia haciendo uso de un modelo entrenado.\"\"\"\n",
    "    \n",
    "    Vector_Prediccion = FeedForward(Pesos, Bias, entradas, salidas, FA_CO)\n",
    "    \n",
    "    Etiquetas_Inferidas = np.argmax(Vector_Prediccion[-1], axis=1)\n",
    "    \n",
    "    Vector_de_Errores = error(Vector_Prediccion[-1], salidas)\n",
    "    Error_Promedio = error_promedio_por_lote(Vector_de_Errores)\n",
    "    \n",
    "    return Etiquetas_Inferidas, Error_Promedio*100"
   ]
  },
  {
   "cell_type": "code",
   "execution_count": 240,
   "metadata": {},
   "outputs": [],
   "source": [
    "from timeit import default_timer\n",
    "\n",
    "def algoritmo_entrenamiento (entradas, salidas, epocas, tamaño_lote, entradas_validacion=None, salidas_validacion=None):\n",
    "    \"\"\"Esta función ejecuta el algoritmo de entrenamiento para nuestra red neuronal.\"\"\"\n",
    "    \n",
    "    assert len(entradas.shape) == 2, \"EL VECTOR O MATRIZ DE ENTRADA DEBE TENER 2 DIMENSIONES (FILA(S) Y COLUMNA(S)).\"\n",
    "    assert len(salidas.shape) == 2, \"EL VECTOR O MATRIZ DE SALIDA DEBE TENER 2 DIMENSIONES (FILA(S) Y COLUMNA(S)).\"\n",
    "    assert len(entradas) % tamaño_lote == 0, \"EL TAMAÑO DEL LOTE DEBE SER DIVISOR DEL TOTAL DE MUESTRAS DE ENTRADA.\"\n",
    "    \n",
    "    # Inicializamos los Hyperparámetros de nuestra red:\n",
    "    \n",
    "    print(\"\\nPor default, tienes una sola capa de entrada. Por lo tanto...\")\n",
    "    capas_ocultas = int(input(\"Cuantas capas ocultas deseas?: \"))\n",
    "    print(\"Finalmente y por default, tienes una sola capa de salida.\\n\")\n",
    "    print(f\"'Tu Red Neuronal cuenta con 1 Capa de Entrada, {capas_ocultas} Capas Ocultas y 1 Capa de Salida'.\\n\")\n",
    "    \n",
    "    texto = \"'El número de neuronas de entrada esta determinado por el número de componentes de tu vector de entrada, por lo tanto,\"\n",
    "    texto += \"\\nel programa selecciona de manera automática el número de neuronas de entrada por tí'.\\n\"\n",
    "    print(texto)\n",
    "    \n",
    "    n_x_c = list() # Neuronas Por Capa.\n",
    "    \n",
    "    for capa in range(capas_ocultas):\n",
    "        \n",
    "        n_x_c.append(int(input(f\"Cuántas neuronas deseas para la capa oculta {capa+1}: \")))\n",
    "        \n",
    "    n_x_c.append(int(input(\"Cuántas neuronas deseas para la capa de salida: \")))\n",
    "    assert n_x_c[-1] == salidas.shape[1], \"EL NÚMERO DE NEURONAS DE SALIDA DEBE SER IGUAL AL NÚMERO DE ENTRADAS EN EL VECTOR DE SALIDA.\"\n",
    "    \n",
    "    n_x_c.insert(0, entradas.shape[1]) # Agregamos el número de neuronas de entrada al principio de nuestra lista.\n",
    "    \n",
    "    alfa = float(input(\"\\nQué valor deseas para la tasa de aprendizaje: \"))\n",
    "    \n",
    "    # Seleccionamos la Función de Activación para las Capas Ocultas:\n",
    "    FA_CO = int(input(\"\\nQué función de activación deseas para las capas ocultas: ReLU (0) ; Leaky_ReLU (1)\"))\n",
    "    assert FA_CO in [0,1,2,3], \"SELECCIONA UNA FUNCIÓN DE ACTIVACIÓN VÁLIDA PARA LAS CAPAS OCULTAS.\"\n",
    "    \n",
    "    # Regularización:\n",
    "    \n",
    "    regularizacion = int(input(\"Qué tipo de regularización deseas? Ninguno (0), Dropout(1) o L2 (2)\"))\n",
    "    assert regularizacion in [0,1,2], \"SELECCIONA UN TIPO DE REGULARIZACIÓN VÁLIDO.\"\n",
    "    \n",
    "    if regularizacion == 2: # Con regularización L2.\n",
    "        \n",
    "        lmbda = float(input(\"Ingresa el valor de lambda: 0 < lambda < 1\"))\n",
    "    \n",
    "    # Datos de validación:\n",
    "    if type(entradas_validacion) == np.ndarray and type(salidas_validacion) == np.ndarray:\n",
    "        assert len(entradas_validacion.shape) == 2, \"LOS DATOS DE VALIDACIÓN DEBEN TENER 2 DIMENSIONES (FILA(S) Y COLUMNA(S)).\"\n",
    "        assert len(salidas_validacion.shape) == 2, \"LAS ETIQUETAS DE VALIDACIÓN DEBE TENER 2 DIMENSIONES (FILA(S) Y COLUMNA(S)).\"\n",
    "\n",
    "        validar = True\n",
    "        \n",
    "    else:\n",
    "        \n",
    "        validar = False\n",
    "    \n",
    "    # Lotes:\n",
    "    cantidad_lotes = len(entradas) / tamaño_lote\n",
    "    print(f\"\\nLa cantidad de lotes a ingresar a la red es: {cantidad_lotes}.\\n\")\n",
    "    \n",
    "    # Inicializamos los Parámetros de nuestra red:\n",
    "    \n",
    "    Pesos, Bias = inicializacion_parametros(n_x_c)\n",
    "    \n",
    "    # Inicializamos las listas requeridas para guardar los datos necesarios:\n",
    "    \n",
    "    Errores_Entrenamiento = list()\n",
    "    Precision_Entrenamiento = list()\n",
    "    \n",
    "    Errores_Validacion = list()\n",
    "    Precision_Validacion = list()\n",
    "    \n",
    "    # Inicializamos nuestro timer para observar el tiempo total de entrenamiento:\n",
    "    inicio = default_timer()\n",
    "    \n",
    "    for epoca in generador(epocas):\n",
    "        \n",
    "        Error_Promedio_x_Lote = 0\n",
    "        \n",
    "        for i in range(int(len(entradas)/tamaño_lote)): # Las muestras pasan por lote.\n",
    "            \n",
    "            salidas_lote = salidas[(i*tamaño_lote):((i+1)*tamaño_lote),:]\n",
    "            entradas_lote = entradas[(i*tamaño_lote):((i+1)*tamaño_lote),:]\n",
    "            \n",
    "            if regularizacion == 0: # Modelo sin regularización.\n",
    "                \n",
    "                # INICIA LA PROPAGACIÓN HACIA ADELANTE (FORWARD-PROPAGATION).\n",
    "                Predicciones_x_Capa = FeedForward(Pesos, Bias, entradas_lote, salidas_lote, FA_CO)\n",
    "                Vector_de_Errores = error(Predicciones_x_Capa[-1], salidas_lote) # Vector de Errores por muestra en el lote.\n",
    "                Error_Promedio_x_Lote += error_promedio_por_lote(Vector_de_Errores) # Promediamos el error por lote.\n",
    "            \n",
    "                # INICIA LA BACKPROPAGATION.\n",
    "                Errores_Delta = BackPropagation(Predicciones_x_Capa, Pesos, salidas_lote, FA_CO)\n",
    "            \n",
    "                # SE ACTUALIZAN LOS PARÁMETROS.\n",
    "                Pesos, Bias = Actualizacion_Parametros(tamaño_lote, Errores_Delta, entradas_lote, Predicciones_x_Capa, Pesos, Bias, alfa)\n",
    "                \n",
    "            elif regularizacion == 1: # Modelo con regularización Dropout.\n",
    "                \n",
    "                # INICIA LA PROPAGACIÓN HACIA ADELANTE (FORWARD-PROPAGATION).\n",
    "                Predicciones_x_Capa, Vectores_dropout = FeedForward_DP(Pesos, Bias, entradas_lote, salidas_lote, FA_CO)\n",
    "                Vector_de_Errores = error(Predicciones_x_Capa[-1], salidas_lote) # Vector de Errores por muestra en el lote.\n",
    "                Error_Promedio_x_Lote += error_promedio_por_lote(Vector_de_Errores) # Promediamos el error por lote.\n",
    "            \n",
    "                # INICIA LA BACKPROPAGATION.\n",
    "                Errores_Delta = BackPropagation(Predicciones_x_Capa, Pesos, salidas_lote, FA_CO)\n",
    "                Errores_Delta_DP = [matriz_delta * vector_dropout for matriz_delta,vector_dropout in zip(Errores_Delta,Vectores_dropout)]\n",
    "                Errores_Delta_DP.append(Errores_Delta[-1])\n",
    "            \n",
    "                # SE ACTUALIZAN LOS PARÁMETROS.\n",
    "                Pesos, Bias = Actualizacion_Parametros(tamaño_lote, Errores_Delta_DP, entradas_lote, Predicciones_x_Capa, Pesos, Bias, alfa)\n",
    "                \n",
    "            else: # Modelo con regularización L2.\n",
    "                \n",
    "                # INICIA LA PROPAGACIÓN HACIA ADELANTE (FORWARD-PROPAGATION).\n",
    "                Predicciones_x_Capa = FeedForward(Pesos, Bias, entradas_lote, salidas_lote, FA_CO)\n",
    "                Vector_de_Errores = error_mas_penalizacion_L2(Predicciones_x_Capa[-1], salidas_lote, Pesos, Bias, lmbda)\n",
    "                Error_Promedio_x_Lote += error_promedio_por_lote(Vector_de_Errores) # Promediamos el error por lote.\n",
    "            \n",
    "                # INICIA LA BACKPROPAGATION.\n",
    "                Errores_Delta = BackPropagation(Predicciones_x_Capa, Pesos, salidas_lote, FA_CO)\n",
    "            \n",
    "                # SE ACTUALIZAN LOS PARÁMETROS.\n",
    "                Pesos, Bias = Actualizacion_Parametros_L2(tamaño_lote, Errores_Delta, entradas_lote, Predicciones_x_Capa, Pesos, Bias, alfa,\n",
    "                                                         lmbda)\n",
    "            \n",
    "        print(f\"Época: {epoca + 1}\")\n",
    "            \n",
    "        # VALIDAMOS NUESTRO MODELO (SI ASÍ SE DESEA):\n",
    "        \n",
    "        if validar:\n",
    "            \n",
    "            Precision_V, Error_V = Precision_y_Validacion(Pesos, Bias, entradas_validacion, salidas_validacion, FA_CO)\n",
    "            \n",
    "            Precision_Validacion.append(Precision_V)\n",
    "            Errores_Validacion.append(Error_V)\n",
    "            \n",
    "            print(f\"Precisión en los Datos de Validación: {Precision_V}%\")\n",
    "            print(f\"Error en los Datos de Validación: {Error_V}%\")\n",
    "            \n",
    "        # ERROR Y PRECISIÓN DE LA RED EN LOS DATOS DE ENTRENAMIENTO.\n",
    "            \n",
    "        Error_x_epoca = (Error_Promedio_x_Lote / cantidad_lotes)*100 # \"Error Logarítmico Promedio\" dado en Porcentaje.\n",
    "        \n",
    "        Precision_E, _ = Precision_y_Validacion(Pesos, Bias, entradas, salidas, FA_CO)\n",
    "\n",
    "        Precision_Entrenamiento.append(Precision_E)\n",
    "\n",
    "        print(f\"Precisión en los Datos de Entrenamiento: {Precision_E}%\")\n",
    "            \n",
    "        Errores_Entrenamiento.append(Error_x_epoca)\n",
    "            \n",
    "        print(f\"Error Total de la Red sobre los Datos de Entrenamiento: {np.around(Error_x_epoca, 10)}%\\n\")\n",
    "    \n",
    "    Tiempo_total = np.around(default_timer() - inicio, decimals=4)\n",
    "    \n",
    "    if Tiempo_total < 60:\n",
    "        \n",
    "        print(f\"Tiempo Total de Entrenamiento: {Tiempo_total} segundos.\\n\")\n",
    "        \n",
    "    else:\n",
    "        \n",
    "        print(f\"Tiempo Total de Entrenamiento: {Tiempo_total / 60} minutos.\\n\")\n",
    "    \n",
    "    if validar:\n",
    "        \n",
    "        return Pesos, Bias, Errores_Entrenamiento, Errores_Validacion, Precision_Entrenamiento, Precision_Validacion, FA_CO\n",
    "    \n",
    "    else:\n",
    "        \n",
    "        return Pesos, Bias, Errores_Entrenamiento, Precision_Entrenamiento, FA_CO"
   ]
  },
  {
   "cell_type": "markdown",
   "metadata": {},
   "source": [
    "***"
   ]
  },
  {
   "cell_type": "markdown",
   "metadata": {},
   "source": [
    "**FA_CO** = Función de Activación de la(s) Capa(s) Oculta(s).   \n",
    "\n",
    "**E_E** = Errores de la red en los datos de entrenamiento.  \n",
    "**E_V** = Errores de la red en los datos de validación.  \n",
    "\n",
    "**P_E** = Precisión de la red en los datos de entrenamiento.  \n",
    "**P_V** = Precisión de la red en los datos de validación."
   ]
  },
  {
   "cell_type": "markdown",
   "metadata": {},
   "source": [
    "***"
   ]
  },
  {
   "cell_type": "markdown",
   "metadata": {},
   "source": [
    "#### **A continuación, realizaremos un modelo por cada cada tipo de regularización y compararemos sus resultados.**\n",
    "#### La arquitectura es: **784 neuronas de entrada, 512 neuronas en la capa oculta, 10 neuronas en la capa de salida, alfa = 0.98, Softmax como función de activación en la capa de salida y como función de activación para la capa oculta usaremos ReLU o Leaky_ReLU, según corresponda.  \n",
    "\n",
    "- **DROPOUT:** = 0.5 (ya se toma por default en el programa), es decir al 50%. Según el libro de \"Grokking Deep Learning\".\n",
    "* **L2:** = 0.001, es decir 0.1%. Según el libro de \"Deep Learning with Python\"."
   ]
  },
  {
   "cell_type": "markdown",
   "metadata": {},
   "source": [
    "#### **Para ReLU**\n",
    "\n",
    "**DROPOUT:**"
   ]
  },
  {
   "cell_type": "code",
   "execution_count": 21,
   "metadata": {
    "scrolled": true
   },
   "outputs": [
    {
     "name": "stdout",
     "output_type": "stream",
     "text": [
      "\n",
      "Por default, tienes una sola capa de entrada. Por lo tanto...\n"
     ]
    },
    {
     "name": "stdin",
     "output_type": "stream",
     "text": [
      "Cuantas capas ocultas deseas?:  1\n"
     ]
    },
    {
     "name": "stdout",
     "output_type": "stream",
     "text": [
      "Finalmente y por default, tienes una sola capa de salida.\n",
      "\n",
      "'Tu Red Neuronal cuenta con 1 Capa de Entrada, 1 Capas Ocultas y 1 Capa de Salida'.\n",
      "\n",
      "'El número de neuronas de entrada esta determinado por el número de componentes de tu vector de entrada, por lo tanto,\n",
      "el programa selecciona de manera automática el número de neuronas de entrada por tí'.\n",
      "\n"
     ]
    },
    {
     "name": "stdin",
     "output_type": "stream",
     "text": [
      "Cuántas neuronas deseas para la capa oculta 1:  512\n",
      "Cuántas neuronas deseas para la capa de salida:  10\n",
      "\n",
      "Qué valor deseas para la tasa de aprendizaje:  0.98\n",
      "\n",
      "Qué función de activación deseas para las capas ocultas: ReLU (0) ; Leaky_ReLU (1) 0\n",
      "Qué tipo de regularización deseas? Ninguno (0), Dropout(1) o L2 (2) 1\n"
     ]
    },
    {
     "name": "stdout",
     "output_type": "stream",
     "text": [
      "\n",
      "La cantidad de lotes a ingresar a la red es: 250.0.\n",
      "\n",
      "Época: 1\n",
      "Precisión en los Datos de Validación: 94.69%\n",
      "Error en los Datos de Validación: 18.570149453375752%\n",
      "Precisión en los Datos de Entrenamiento: 93.916%\n",
      "Error Total de la Red sobre los Datos de Entrenamiento: 39.3804565869%\n",
      "\n",
      "Época: 2\n",
      "Precisión en los Datos de Validación: 96.52%\n",
      "Error en los Datos de Validación: 12.462506849506935%\n",
      "Precisión en los Datos de Entrenamiento: 96.328%\n",
      "Error Total de la Red sobre los Datos de Entrenamiento: 18.6710121511%\n",
      "\n",
      "Época: 3\n",
      "Precisión en los Datos de Validación: 97.0%\n",
      "Error en los Datos de Validación: 10.332246677824395%\n",
      "Precisión en los Datos de Entrenamiento: 97.348%\n",
      "Error Total de la Red sobre los Datos de Entrenamiento: 14.4594935839%\n",
      "\n",
      "Época: 4\n",
      "Precisión en los Datos de Validación: 97.54%\n",
      "Error en los Datos de Validación: 8.848124118115969%\n",
      "Precisión en los Datos de Entrenamiento: 97.924%\n",
      "Error Total de la Red sobre los Datos de Entrenamiento: 11.7631408321%\n",
      "\n",
      "Época: 5\n",
      "Precisión en los Datos de Validación: 97.53%\n",
      "Error en los Datos de Validación: 8.49644938928694%\n",
      "Precisión en los Datos de Entrenamiento: 98.178%\n",
      "Error Total de la Red sobre los Datos de Entrenamiento: 10.1816275049%\n",
      "\n",
      "Época: 6\n",
      "Precisión en los Datos de Validación: 97.8%\n",
      "Error en los Datos de Validación: 7.884239506803239%\n",
      "Precisión en los Datos de Entrenamiento: 98.47200000000001%\n",
      "Error Total de la Red sobre los Datos de Entrenamiento: 9.1474525107%\n",
      "\n",
      "Época: 7\n",
      "Precisión en los Datos de Validación: 97.84%\n",
      "Error en los Datos de Validación: 7.582525089715442%\n",
      "Precisión en los Datos de Entrenamiento: 98.746%\n",
      "Error Total de la Red sobre los Datos de Entrenamiento: 7.9550556141%\n",
      "\n",
      "Época: 8\n",
      "Precisión en los Datos de Validación: 97.88%\n",
      "Error en los Datos de Validación: 7.418801462352638%\n",
      "Precisión en los Datos de Entrenamiento: 98.904%\n",
      "Error Total de la Red sobre los Datos de Entrenamiento: 7.3383060482%\n",
      "\n",
      "Época: 9\n",
      "Precisión en los Datos de Validación: 97.96000000000001%\n",
      "Error en los Datos de Validación: 7.1374729954916605%\n",
      "Precisión en los Datos de Entrenamiento: 99.05199999999999%\n",
      "Error Total de la Red sobre los Datos de Entrenamiento: 6.6905143388%\n",
      "\n",
      "Época: 10\n",
      "Precisión en los Datos de Validación: 97.81%\n",
      "Error en los Datos de Validación: 7.344225125859329%\n",
      "Precisión en los Datos de Entrenamiento: 99.116%\n",
      "Error Total de la Red sobre los Datos de Entrenamiento: 6.1653885858%\n",
      "\n",
      "Tiempo Total de Entrenamiento: 52.011 segundos.\n",
      "\n"
     ]
    }
   ],
   "source": [
    "epocas = 10\n",
    "tamaño_lote = 200\n",
    "\n",
    "Pesos_ReLU, Bias_ReLU, E_E_ReLU, E_V_ReLU, P_E_ReLU, P_V_ReLU, FA_CO_ReLU = \\\n",
    "algoritmo_entrenamiento(Datos_Entrenamiento, Etiquetas_Entrenamiento, epocas, tamaño_lote, Datos_Validacion, Etiquetas_Validacion)"
   ]
  },
  {
   "cell_type": "code",
   "execution_count": 22,
   "metadata": {},
   "outputs": [],
   "source": [
    "Predicciones_Testeo_ReLU, Error_Testeo_ReLU = Predicciones(Pesos_ReLU, Bias_ReLU, imagenes_testeo, etiquetas_testeo_ONE_HOT, \n",
    "                                                          FA_CO_ReLU)"
   ]
  },
  {
   "cell_type": "code",
   "execution_count": 23,
   "metadata": {},
   "outputs": [
    {
     "name": "stdout",
     "output_type": "stream",
     "text": [
      "Error sobre los datos de Testeo: 6.726%.\n",
      "Cantidad de Aciertos sobre el conjunto de Testeo: 9800\n",
      "Porcentaje de Precisión sobre los datos de Testeo: 98.0%\n"
     ]
    }
   ],
   "source": [
    "print(f\"Error sobre los datos de Testeo: {np.around(Error_Testeo_ReLU, decimals=4)}%.\")\n",
    "\n",
    "Aciertos_Testeo_ReLU = (Predicciones_Testeo_ReLU == etiquetas_testeo).sum()\n",
    "print(f\"Cantidad de Aciertos sobre el conjunto de Testeo: {Aciertos_Testeo_ReLU}\")\n",
    "\n",
    "P_T_ReLU = (Aciertos_Testeo_ReLU / len(etiquetas_testeo))*100\n",
    "print(f\"Porcentaje de Precisión sobre los datos de Testeo: {P_T_ReLU}%\")"
   ]
  },
  {
   "cell_type": "code",
   "execution_count": 24,
   "metadata": {},
   "outputs": [
    {
     "data": {
      "text/plain": [
       "<matplotlib.legend.Legend at 0x1a9854149a0>"
      ]
     },
     "execution_count": 24,
     "metadata": {},
     "output_type": "execute_result"
    },
    {
     "data": {
      "image/png": "[encoded data removed]",
      "text/plain": [
       "<Figure size 432x288 with 1 Axes>"
      ]
     },
     "metadata": {
      "needs_background": "light"
     },
     "output_type": "display_data"
    }
   ],
   "source": [
    "epocas = range(1,len(E_V_ReLU)+1)\n",
    "\n",
    "plt.plot(epocas, E_V_ReLU, label=\"Validación.\")\n",
    "plt.plot(epocas, E_E_ReLU, label=\"Entrenamiento\")\n",
    "plt.title(\"Error de Validación vs Error de Entrenamiento.\")\n",
    "plt.xlabel(\"Época.\")\n",
    "plt.ylabel(\"Error en %.\")\n",
    "plt.legend()"
   ]
  },
  {
   "cell_type": "markdown",
   "metadata": {},
   "source": [
    "**Observaciones:**\n",
    "\n",
    "Se puede ver claramente que los errores en ambos conjuntos son muy parecidos, a diferencia de la gráfica del notebook \"RN_Comparacion_FAs\" para esta configuración, en donde claramente el error de validación es mayor que el de entrenamiento. Esto se traduce en una mejora en la capacidad de generalización por parte de nuestro modelo."
   ]
  },
  {
   "cell_type": "code",
   "execution_count": 26,
   "metadata": {},
   "outputs": [
    {
     "data": {
      "text/plain": [
       "<matplotlib.legend.Legend at 0x1a985502dc0>"
      ]
     },
     "execution_count": 26,
     "metadata": {},
     "output_type": "execute_result"
    },
    {
     "data": {
      "image/png": "[encoded data removed]",
      "text/plain": [
       "<Figure size 432x288 with 1 Axes>"
      ]
     },
     "metadata": {
      "needs_background": "light"
     },
     "output_type": "display_data"
    }
   ],
   "source": [
    "epocas = range(1,len(P_V_ReLU)+1)\n",
    "\n",
    "plt.plot(epocas, P_V_ReLU, label=\"Validación.\")\n",
    "plt.plot(epocas, P_E_ReLU, label=\"Entrenamiento\")\n",
    "plt.title(\"Precisión de Validación vs Precisión de Entrenamiento.\")\n",
    "plt.xlabel(\"Época.\")\n",
    "plt.ylabel(\"Precisión en %.\")\n",
    "plt.legend()"
   ]
  },
  {
   "cell_type": "markdown",
   "metadata": {},
   "source": [
    "**Observaciones:**\n",
    "\n",
    "Esta gráfica es muy parecida a la gráfica de la precisión en el notebook \"RN_Comparacion_FAs\", para esta configuración. Sin embargo, el porcentaje de precisión sobre los datos de entrenamiento para esta gráfica es de $99.116\\%$, mientras que para su homónima en el notebook antes mencionado es de $99.67\\%$, lo que se traduce en una menor memorización (aunque sea mínima), por parte de este modelo. Para esto es que sirven las regularización, para contrarestar el overfitting y aumentar la capacidad de generalización de una red."
   ]
  },
  {
   "cell_type": "markdown",
   "metadata": {},
   "source": [
    "**L2:**"
   ]
  },
  {
   "cell_type": "code",
   "execution_count": 247,
   "metadata": {
    "scrolled": true
   },
   "outputs": [
    {
     "name": "stdout",
     "output_type": "stream",
     "text": [
      "\n",
      "Por default, tienes una sola capa de entrada. Por lo tanto...\n"
     ]
    },
    {
     "name": "stdin",
     "output_type": "stream",
     "text": [
      "Cuantas capas ocultas deseas?:  1\n"
     ]
    },
    {
     "name": "stdout",
     "output_type": "stream",
     "text": [
      "Finalmente y por default, tienes una sola capa de salida.\n",
      "\n",
      "'Tu Red Neuronal cuenta con 1 Capa de Entrada, 1 Capas Ocultas y 1 Capa de Salida'.\n",
      "\n",
      "'El número de neuronas de entrada esta determinado por el número de componentes de tu vector de entrada, por lo tanto,\n",
      "el programa selecciona de manera automática el número de neuronas de entrada por tí'.\n",
      "\n"
     ]
    },
    {
     "name": "stdin",
     "output_type": "stream",
     "text": [
      "Cuántas neuronas deseas para la capa oculta 1:  512\n",
      "Cuántas neuronas deseas para la capa de salida:  10\n",
      "\n",
      "Qué valor deseas para la tasa de aprendizaje:  0.98\n",
      "\n",
      "Qué función de activación deseas para las capas ocultas: ReLU (0) ; Leaky_ReLU (1) 0\n",
      "Qué tipo de regularización deseas? Ninguno (0), Dropout(1) o L2 (2) 2\n",
      "Ingresa el valor de lambda: 0 < lambda < 1 0.001\n"
     ]
    },
    {
     "name": "stdout",
     "output_type": "stream",
     "text": [
      "\n",
      "La cantidad de lotes a ingresar a la red es: 250.0.\n",
      "\n",
      "Época: 1\n",
      "Precisión en los Datos de Validación: 93.28999999999999%\n",
      "Error en los Datos de Validación: 22.491526642763574%\n",
      "Precisión en los Datos de Entrenamiento: 92.71000000000001%\n",
      "Error Total de la Red sobre los Datos de Entrenamiento: 90.291974994%\n",
      "\n",
      "Época: 2\n",
      "Precisión en los Datos de Validación: 94.3%\n",
      "Error en los Datos de Validación: 19.50597953397098%\n",
      "Precisión en los Datos de Entrenamiento: 93.87%\n",
      "Error Total de la Red sobre los Datos de Entrenamiento: 45.6262490129%\n",
      "\n",
      "Época: 3\n",
      "Precisión en los Datos de Validación: 94.66%\n",
      "Error en los Datos de Validación: 18.19468792185194%\n",
      "Precisión en los Datos de Entrenamiento: 94.464%\n",
      "Error Total de la Red sobre los Datos de Entrenamiento: 34.5043711981%\n",
      "\n",
      "Época: 4\n",
      "Precisión en los Datos de Validación: 94.89%\n",
      "Error en los Datos de Validación: 17.456354103242404%\n",
      "Precisión en los Datos de Entrenamiento: 94.758%\n",
      "Error Total de la Red sobre los Datos de Entrenamiento: 30.3269449598%\n",
      "\n",
      "Época: 5\n",
      "Precisión en los Datos de Validación: 95.08%\n",
      "Error en los Datos de Validación: 17.031624780098543%\n",
      "Precisión en los Datos de Entrenamiento: 94.926%\n",
      "Error Total de la Red sobre los Datos de Entrenamiento: 28.4972102969%\n",
      "\n",
      "Época: 6\n",
      "Precisión en los Datos de Validación: 95.38%\n",
      "Error en los Datos de Validación: 16.27108886156275%\n",
      "Precisión en los Datos de Entrenamiento: 95.25%\n",
      "Error Total de la Red sobre los Datos de Entrenamiento: 27.8912078272%\n",
      "\n",
      "Época: 7\n",
      "Precisión en los Datos de Validación: 95.35%\n",
      "Error en los Datos de Validación: 16.001903243505243%\n",
      "Precisión en los Datos de Entrenamiento: 95.372%\n",
      "Error Total de la Red sobre los Datos de Entrenamiento: 27.2206206372%\n",
      "\n",
      "Época: 8\n",
      "Precisión en los Datos de Validación: 95.5%\n",
      "Error en los Datos de Validación: 15.805799492834177%\n",
      "Precisión en los Datos de Entrenamiento: 95.43%\n",
      "Error Total de la Red sobre los Datos de Entrenamiento: 27.0402163152%\n",
      "\n",
      "Época: 9\n",
      "Precisión en los Datos de Validación: 95.46%\n",
      "Error en los Datos de Validación: 15.98047457479794%\n",
      "Precisión en los Datos de Entrenamiento: 95.396%\n",
      "Error Total de la Red sobre los Datos de Entrenamiento: 26.8314210027%\n",
      "\n",
      "Época: 10\n",
      "Precisión en los Datos de Validación: 95.5%\n",
      "Error en los Datos de Validación: 15.772714504821215%\n",
      "Precisión en los Datos de Entrenamiento: 95.422%\n",
      "Error Total de la Red sobre los Datos de Entrenamiento: 26.945176379%\n",
      "\n",
      "Tiempo Total de Entrenamiento: 1.0665366666666667 minutos.\n",
      "\n"
     ]
    }
   ],
   "source": [
    "epocas = 10\n",
    "tamaño_lote = 200\n",
    "\n",
    "Pesos_ReLU_L2, Bias_ReLU_L2, E_E_ReLU_L2, E_V_ReLU_L2, P_E_ReLU_L2, P_V_ReLU_L2, FA_CO_ReLU_L2 = \\\n",
    "algoritmo_entrenamiento(Datos_Entrenamiento, Etiquetas_Entrenamiento, epocas, tamaño_lote, Datos_Validacion, Etiquetas_Validacion)"
   ]
  },
  {
   "cell_type": "code",
   "execution_count": 248,
   "metadata": {},
   "outputs": [],
   "source": [
    "Predicciones_Testeo_ReLU_L2, Error_Testeo_ReLU_L2 = Predicciones(Pesos_ReLU_L2, Bias_ReLU_L2, imagenes_testeo, etiquetas_testeo_ONE_HOT, \n",
    "                                                          FA_CO_ReLU_L2)"
   ]
  },
  {
   "cell_type": "code",
   "execution_count": 249,
   "metadata": {},
   "outputs": [
    {
     "name": "stdout",
     "output_type": "stream",
     "text": [
      "Error sobre los datos de Testeo: 16.7576%.\n",
      "Cantidad de Aciertos sobre el conjunto de Testeo: 9510\n",
      "Porcentaje de Precisión sobre los datos de Testeo: 95.1%\n"
     ]
    }
   ],
   "source": [
    "print(f\"Error sobre los datos de Testeo: {np.around(Error_Testeo_ReLU_L2, decimals=4)}%.\")\n",
    "\n",
    "Aciertos_Testeo_ReLU_L2 = (Predicciones_Testeo_ReLU_L2 == etiquetas_testeo).sum()\n",
    "print(f\"Cantidad de Aciertos sobre el conjunto de Testeo: {Aciertos_Testeo_ReLU_L2}\")\n",
    "\n",
    "P_T_ReLU_L2 = (Aciertos_Testeo_ReLU_L2 / len(etiquetas_testeo))*100\n",
    "print(f\"Porcentaje de Precisión sobre los datos de Testeo: {P_T_ReLU_L2}%\")"
   ]
  },
  {
   "cell_type": "code",
   "execution_count": 250,
   "metadata": {},
   "outputs": [
    {
     "data": {
      "text/plain": [
       "<matplotlib.legend.Legend at 0x1a99831e3d0>"
      ]
     },
     "execution_count": 250,
     "metadata": {},
     "output_type": "execute_result"
    },
    {
     "data": {
      "image/png": "[encoded data removed]",
      "text/plain": [
       "<Figure size 432x288 with 1 Axes>"
      ]
     },
     "metadata": {
      "needs_background": "light"
     },
     "output_type": "display_data"
    }
   ],
   "source": [
    "epocas = range(1,len(E_V_ReLU_L2)+1)\n",
    "\n",
    "plt.plot(epocas, E_V_ReLU_L2, label=\"Validación.\")\n",
    "plt.plot(epocas, E_E_ReLU_L2, label=\"Entrenamiento\")\n",
    "plt.title(\"Error de Validación vs Error de Entrenamiento.\")\n",
    "plt.xlabel(\"Época.\")\n",
    "plt.ylabel(\"Error en %.\")\n",
    "plt.legend()"
   ]
  },
  {
   "cell_type": "code",
   "execution_count": 251,
   "metadata": {},
   "outputs": [
    {
     "data": {
      "text/plain": [
       "<matplotlib.legend.Legend at 0x1a9983a9070>"
      ]
     },
     "execution_count": 251,
     "metadata": {},
     "output_type": "execute_result"
    },
    {
     "data": {
      "image/png": "[encoded data removed]",
      "text/plain": [
       "<Figure size 432x288 with 1 Axes>"
      ]
     },
     "metadata": {
      "needs_background": "light"
     },
     "output_type": "display_data"
    }
   ],
   "source": [
    "epocas = range(1,len(P_V_ReLU_L2)+1)\n",
    "\n",
    "plt.plot(epocas, P_V_ReLU_L2, label=\"Validación.\")\n",
    "plt.plot(epocas, P_E_ReLU_L2, label=\"Entrenamiento\")\n",
    "plt.title(\"Precisión de Validación vs Precisión de Entrenamiento.\")\n",
    "plt.xlabel(\"Época.\")\n",
    "plt.ylabel(\"Precisión en %.\")\n",
    "plt.legend()"
   ]
  },
  {
   "cell_type": "markdown",
   "metadata": {},
   "source": [
    "**Observaciones:**\n",
    "\n",
    "Como podemos notar, los resultados son buenos. No obstante, la regularización usando Dropout proporciono una mayor precisión sobre los datos teste, que, recordemos, son los veradaderamente importantes."
   ]
  },
  {
   "cell_type": "markdown",
   "metadata": {},
   "source": [
    "***"
   ]
  },
  {
   "cell_type": "markdown",
   "metadata": {},
   "source": [
    "#### **PARA LEAKY RELU**\n",
    "\n",
    "**DROPOUT:**"
   ]
  },
  {
   "cell_type": "code",
   "execution_count": 252,
   "metadata": {
    "scrolled": true
   },
   "outputs": [
    {
     "name": "stdout",
     "output_type": "stream",
     "text": [
      "\n",
      "Por default, tienes una sola capa de entrada. Por lo tanto...\n"
     ]
    },
    {
     "name": "stdin",
     "output_type": "stream",
     "text": [
      "Cuantas capas ocultas deseas?:  1\n"
     ]
    },
    {
     "name": "stdout",
     "output_type": "stream",
     "text": [
      "Finalmente y por default, tienes una sola capa de salida.\n",
      "\n",
      "'Tu Red Neuronal cuenta con 1 Capa de Entrada, 1 Capas Ocultas y 1 Capa de Salida'.\n",
      "\n",
      "'El número de neuronas de entrada esta determinado por el número de componentes de tu vector de entrada, por lo tanto,\n",
      "el programa selecciona de manera automática el número de neuronas de entrada por tí'.\n",
      "\n"
     ]
    },
    {
     "name": "stdin",
     "output_type": "stream",
     "text": [
      "Cuántas neuronas deseas para la capa oculta 1:  512\n",
      "Cuántas neuronas deseas para la capa de salida:  10\n",
      "\n",
      "Qué valor deseas para la tasa de aprendizaje:  0.98\n",
      "\n",
      "Qué función de activación deseas para las capas ocultas: ReLU (0) ; Leaky_ReLU (1) 1\n",
      "Qué tipo de regularización deseas? Ninguno (0), Dropout(1) o L2 (2) 1\n"
     ]
    },
    {
     "name": "stdout",
     "output_type": "stream",
     "text": [
      "\n",
      "La cantidad de lotes a ingresar a la red es: 250.0.\n",
      "\n",
      "Época: 1\n",
      "Precisión en los Datos de Validación: 95.02000000000001%\n",
      "Error en los Datos de Validación: 18.00801075484019%\n",
      "Precisión en los Datos de Entrenamiento: 94.44%\n",
      "Error Total de la Red sobre los Datos de Entrenamiento: 39.5631278952%\n",
      "\n",
      "Época: 2\n",
      "Precisión en los Datos de Validación: 96.39%\n",
      "Error en los Datos de Validación: 12.252733379077425%\n",
      "Precisión en los Datos de Entrenamiento: 96.476%\n",
      "Error Total de la Red sobre los Datos de Entrenamiento: 18.4699775787%\n",
      "\n",
      "Época: 3\n",
      "Precisión en los Datos de Validación: 97.08%\n",
      "Error en los Datos de Validación: 10.179141183588749%\n",
      "Precisión en los Datos de Entrenamiento: 97.384%\n",
      "Error Total de la Red sobre los Datos de Entrenamiento: 14.4214983969%\n",
      "\n",
      "Época: 4\n",
      "Precisión en los Datos de Validación: 97.22%\n",
      "Error en los Datos de Validación: 9.14623232937974%\n",
      "Precisión en los Datos de Entrenamiento: 97.898%\n",
      "Error Total de la Red sobre los Datos de Entrenamiento: 11.8860882837%\n",
      "\n",
      "Época: 5\n",
      "Precisión en los Datos de Validación: 97.33000000000001%\n",
      "Error en los Datos de Validación: 8.730089223974922%\n",
      "Precisión en los Datos de Entrenamiento: 98.15%\n",
      "Error Total de la Red sobre los Datos de Entrenamiento: 10.2696167569%\n",
      "\n",
      "Época: 6\n",
      "Precisión en los Datos de Validación: 97.68%\n",
      "Error en los Datos de Validación: 7.873556930176753%\n",
      "Precisión en los Datos de Entrenamiento: 98.52199999999999%\n",
      "Error Total de la Red sobre los Datos de Entrenamiento: 8.9563129641%\n",
      "\n",
      "Época: 7\n",
      "Precisión en los Datos de Validación: 97.74000000000001%\n",
      "Error en los Datos de Validación: 7.628159202898899%\n",
      "Precisión en los Datos de Entrenamiento: 98.764%\n",
      "Error Total de la Red sobre los Datos de Entrenamiento: 8.1872493834%\n",
      "\n",
      "Época: 8\n",
      "Precisión en los Datos de Validación: 97.72999999999999%\n",
      "Error en los Datos de Validación: 7.42935697180363%\n",
      "Precisión en los Datos de Entrenamiento: 98.916%\n",
      "Error Total de la Red sobre los Datos de Entrenamiento: 7.6297252732%\n",
      "\n",
      "Época: 9\n",
      "Precisión en los Datos de Validación: 97.86%\n",
      "Error en los Datos de Validación: 7.198813225479575%\n",
      "Precisión en los Datos de Entrenamiento: 99.00999999999999%\n",
      "Error Total de la Red sobre los Datos de Entrenamiento: 6.8252241593%\n",
      "\n",
      "Época: 10\n",
      "Precisión en los Datos de Validación: 97.77%\n",
      "Error en los Datos de Validación: 7.06692063911817%\n",
      "Precisión en los Datos de Entrenamiento: 99.146%\n",
      "Error Total de la Red sobre los Datos de Entrenamiento: 6.2387799261%\n",
      "\n",
      "Tiempo Total de Entrenamiento: 8.206266666666666 minutos.\n",
      "\n"
     ]
    }
   ],
   "source": [
    "epocas = 10\n",
    "tamaño_lote = 200\n",
    "\n",
    "Pesos_Leaky_ReLU, Bias_Leaky_ReLU, E_E_Leaky_ReLU, E_V_Leaky_ReLU, P_E_Leaky_ReLU, P_V_Leaky_ReLU, FA_CO_Leaky_ReLU = \\\n",
    "algoritmo_entrenamiento(Datos_Entrenamiento, Etiquetas_Entrenamiento, epocas, tamaño_lote, Datos_Validacion, Etiquetas_Validacion)"
   ]
  },
  {
   "cell_type": "code",
   "execution_count": 253,
   "metadata": {},
   "outputs": [],
   "source": [
    "Predicciones_Testeo_Leaky_ReLU, Error_Testeo_Leaky_ReLU = Predicciones(Pesos_Leaky_ReLU, Bias_Leaky_ReLU, imagenes_testeo, etiquetas_testeo_ONE_HOT, \n",
    "                                                          FA_CO_Leaky_ReLU)"
   ]
  },
  {
   "cell_type": "code",
   "execution_count": 254,
   "metadata": {},
   "outputs": [
    {
     "name": "stdout",
     "output_type": "stream",
     "text": [
      "Error sobre los datos de Testeo: 6.6872%.\n",
      "Cantidad de Aciertos sobre el conjunto de Testeo: 9803\n",
      "Porcentaje de Precisión sobre los datos de Testeo: 98.03%\n"
     ]
    }
   ],
   "source": [
    "print(f\"Error sobre los datos de Testeo: {np.around(Error_Testeo_Leaky_ReLU, decimals=4)}%.\")\n",
    "\n",
    "Aciertos_Testeo_Leaky_ReLU = (Predicciones_Testeo_Leaky_ReLU == etiquetas_testeo).sum()\n",
    "print(f\"Cantidad de Aciertos sobre el conjunto de Testeo: {Aciertos_Testeo_Leaky_ReLU}\")\n",
    "\n",
    "P_T_Leaky_ReLU = (Aciertos_Testeo_Leaky_ReLU / len(etiquetas_testeo))*100\n",
    "print(f\"Porcentaje de Precisión sobre los datos de Testeo: {P_T_Leaky_ReLU}%\")"
   ]
  },
  {
   "cell_type": "code",
   "execution_count": 255,
   "metadata": {},
   "outputs": [
    {
     "data": {
      "text/plain": [
       "<matplotlib.legend.Legend at 0x1a998490be0>"
      ]
     },
     "execution_count": 255,
     "metadata": {},
     "output_type": "execute_result"
    },
    {
     "data": {
      "image/png": "[encoded data removed]",
      "text/plain": [
       "<Figure size 432x288 with 1 Axes>"
      ]
     },
     "metadata": {
      "needs_background": "light"
     },
     "output_type": "display_data"
    }
   ],
   "source": [
    "epocas = range(1,len(E_V_Leaky_ReLU)+1)\n",
    "\n",
    "plt.plot(epocas, E_V_Leaky_ReLU, label=\"Validación.\")\n",
    "plt.plot(epocas, E_E_Leaky_ReLU, label=\"Entrenamiento\")\n",
    "plt.title(\"Error de Validación vs Error de Entrenamiento.\")\n",
    "plt.xlabel(\"Época.\")\n",
    "plt.ylabel(\"Error en %.\")\n",
    "plt.legend()"
   ]
  },
  {
   "cell_type": "code",
   "execution_count": 256,
   "metadata": {},
   "outputs": [
    {
     "data": {
      "text/plain": [
       "<matplotlib.legend.Legend at 0x1a9984907f0>"
      ]
     },
     "execution_count": 256,
     "metadata": {},
     "output_type": "execute_result"
    },
    {
     "data": {
      "image/png": "[encoded data removed]",
      "text/plain": [
       "<Figure size 432x288 with 1 Axes>"
      ]
     },
     "metadata": {
      "needs_background": "light"
     },
     "output_type": "display_data"
    }
   ],
   "source": [
    "epocas = range(1,len(P_V_Leaky_ReLU)+1)\n",
    "\n",
    "plt.plot(epocas, P_V_Leaky_ReLU, label=\"Validación.\")\n",
    "plt.plot(epocas, P_E_Leaky_ReLU, label=\"Entrenamiento\")\n",
    "plt.title(\"Precisión de Validación vs Precisión de Entrenamiento.\")\n",
    "plt.xlabel(\"Época.\")\n",
    "plt.ylabel(\"Precisión en %.\")\n",
    "plt.legend()"
   ]
  },
  {
   "cell_type": "markdown",
   "metadata": {},
   "source": [
    "**L2:**"
   ]
  },
  {
   "cell_type": "code",
   "execution_count": 273,
   "metadata": {
    "scrolled": true
   },
   "outputs": [
    {
     "name": "stdout",
     "output_type": "stream",
     "text": [
      "\n",
      "Por default, tienes una sola capa de entrada. Por lo tanto...\n"
     ]
    },
    {
     "name": "stdin",
     "output_type": "stream",
     "text": [
      "Cuantas capas ocultas deseas?:  1\n"
     ]
    },
    {
     "name": "stdout",
     "output_type": "stream",
     "text": [
      "Finalmente y por default, tienes una sola capa de salida.\n",
      "\n",
      "'Tu Red Neuronal cuenta con 1 Capa de Entrada, 1 Capas Ocultas y 1 Capa de Salida'.\n",
      "\n",
      "'El número de neuronas de entrada esta determinado por el número de componentes de tu vector de entrada, por lo tanto,\n",
      "el programa selecciona de manera automática el número de neuronas de entrada por tí'.\n",
      "\n"
     ]
    },
    {
     "name": "stdin",
     "output_type": "stream",
     "text": [
      "Cuántas neuronas deseas para la capa oculta 1:  512\n",
      "Cuántas neuronas deseas para la capa de salida:  10\n",
      "\n",
      "Qué valor deseas para la tasa de aprendizaje:  0.98\n",
      "\n",
      "Qué función de activación deseas para las capas ocultas: ReLU (0) ; Leaky_ReLU (1) 1\n",
      "Qué tipo de regularización deseas? Ninguno (0), Dropout(1) o L2 (2) 2\n",
      "Ingresa el valor de lambda: 0 < lambda < 1 0.001\n"
     ]
    },
    {
     "name": "stdout",
     "output_type": "stream",
     "text": [
      "\n",
      "La cantidad de lotes a ingresar a la red es: 250.0.\n",
      "\n",
      "Época: 1\n",
      "Precisión en los Datos de Validación: 92.99%\n",
      "Error en los Datos de Validación: 22.915242706678715%\n",
      "Precisión en los Datos de Entrenamiento: 92.532%\n",
      "Error Total de la Red sobre los Datos de Entrenamiento: 89.2384301228%\n",
      "\n",
      "Época: 2\n",
      "Precisión en los Datos de Validación: 94.59%\n",
      "Error en los Datos de Validación: 18.82153386088056%\n",
      "Precisión en los Datos de Entrenamiento: 94.134%\n",
      "Error Total de la Red sobre los Datos de Entrenamiento: 45.6377161348%\n",
      "\n",
      "Época: 3\n",
      "Precisión en los Datos de Validación: 94.99%\n",
      "Error en los Datos de Validación: 17.595616826368516%\n",
      "Precisión en los Datos de Entrenamiento: 94.594%\n",
      "Error Total de la Red sobre los Datos de Entrenamiento: 34.6812453597%\n",
      "\n",
      "Época: 4\n",
      "Precisión en los Datos de Validación: 95.04%\n",
      "Error en los Datos de Validación: 17.0090561473412%\n",
      "Precisión en los Datos de Entrenamiento: 94.77600000000001%\n",
      "Error Total de la Red sobre los Datos de Entrenamiento: 30.7570377781%\n",
      "\n",
      "Época: 5\n",
      "Precisión en los Datos de Validación: 95.24000000000001%\n",
      "Error en los Datos de Validación: 16.58007910486522%\n",
      "Precisión en los Datos de Entrenamiento: 94.99%\n",
      "Error Total de la Red sobre los Datos de Entrenamiento: 28.891885853%\n",
      "\n",
      "Época: 6\n",
      "Precisión en los Datos de Validación: 95.1%\n",
      "Error en los Datos de Validación: 17.059953384880387%\n",
      "Precisión en los Datos de Entrenamiento: 94.80199999999999%\n",
      "Error Total de la Red sobre los Datos de Entrenamiento: 28.2058202836%\n",
      "\n",
      "Época: 7\n",
      "Precisión en los Datos de Validación: 95.22%\n",
      "Error en los Datos de Validación: 16.523845228334654%\n",
      "Precisión en los Datos de Entrenamiento: 95.028%\n",
      "Error Total de la Red sobre los Datos de Entrenamiento: 27.6131632518%\n",
      "\n",
      "Época: 8\n",
      "Precisión en los Datos de Validación: 95.21%\n",
      "Error en los Datos de Validación: 16.90871403134159%\n",
      "Precisión en los Datos de Entrenamiento: 94.866%\n",
      "Error Total de la Red sobre los Datos de Entrenamiento: 27.7432359374%\n",
      "\n",
      "Época: 9\n",
      "Precisión en los Datos de Validación: 94.93%\n",
      "Error en los Datos de Validación: 17.38794539394968%\n",
      "Precisión en los Datos de Entrenamiento: 94.65400000000001%\n",
      "Error Total de la Red sobre los Datos de Entrenamiento: 27.5513309653%\n",
      "\n",
      "Época: 10\n",
      "Precisión en los Datos de Validación: 95.3%\n",
      "Error en los Datos de Validación: 16.266739030443585%\n",
      "Precisión en los Datos de Entrenamiento: 95.092%\n",
      "Error Total de la Red sobre los Datos de Entrenamiento: 26.9250996201%\n",
      "\n",
      "Tiempo Total de Entrenamiento: 8.679748333333333 minutos.\n",
      "\n"
     ]
    }
   ],
   "source": [
    "epocas = 10\n",
    "tamaño_lote = 200\n",
    "\n",
    "Pesos_Leaky_ReLU, Bias_Leaky_ReLU, E_E_Leaky_ReLU, E_V_Leaky_ReLU, P_E_Leaky_ReLU, P_V_Leaky_ReLU, FA_CO_Leaky_ReLU = \\\n",
    "algoritmo_entrenamiento(Datos_Entrenamiento, Etiquetas_Entrenamiento, epocas, tamaño_lote, Datos_Validacion, Etiquetas_Validacion)"
   ]
  },
  {
   "cell_type": "code",
   "execution_count": 274,
   "metadata": {},
   "outputs": [],
   "source": [
    "Predicciones_Testeo_Leaky_ReLU, Error_Testeo_Leaky_ReLU = Predicciones(Pesos_Leaky_ReLU, Bias_Leaky_ReLU, imagenes_testeo, etiquetas_testeo_ONE_HOT, \n",
    "                                                          FA_CO_Leaky_ReLU)"
   ]
  },
  {
   "cell_type": "code",
   "execution_count": 275,
   "metadata": {},
   "outputs": [
    {
     "name": "stdout",
     "output_type": "stream",
     "text": [
      "Error sobre los datos de Testeo: 17.4602%.\n",
      "Cantidad de Aciertos sobre el conjunto de Testeo: 9486\n",
      "Porcentaje de Precisión sobre los datos de Testeo: 94.86%\n"
     ]
    }
   ],
   "source": [
    "print(f\"Error sobre los datos de Testeo: {np.around(Error_Testeo_Leaky_ReLU, decimals=4)}%.\")\n",
    "\n",
    "Aciertos_Testeo_Leaky_ReLU = (Predicciones_Testeo_Leaky_ReLU == etiquetas_testeo).sum()\n",
    "print(f\"Cantidad de Aciertos sobre el conjunto de Testeo: {Aciertos_Testeo_Leaky_ReLU}\")\n",
    "\n",
    "P_T_Leaky_ReLU = (Aciertos_Testeo_Leaky_ReLU / len(etiquetas_testeo))*100\n",
    "print(f\"Porcentaje de Precisión sobre los datos de Testeo: {P_T_Leaky_ReLU}%\")"
   ]
  },
  {
   "cell_type": "code",
   "execution_count": 276,
   "metadata": {},
   "outputs": [
    {
     "data": {
      "text/plain": [
       "<matplotlib.legend.Legend at 0x1a9893a7250>"
      ]
     },
     "execution_count": 276,
     "metadata": {},
     "output_type": "execute_result"
    },
    {
     "data": {
      "image/png": "[encoded data removed]",
      "text/plain": [
       "<Figure size 432x288 with 1 Axes>"
      ]
     },
     "metadata": {
      "needs_background": "light"
     },
     "output_type": "display_data"
    }
   ],
   "source": [
    "epocas = range(1,len(E_V_Leaky_ReLU)+1)\n",
    "\n",
    "plt.plot(epocas, E_V_Leaky_ReLU, label=\"Validación.\")\n",
    "plt.plot(epocas, E_E_Leaky_ReLU, label=\"Entrenamiento\")\n",
    "plt.title(\"Error de Validación vs Error de Entrenamiento.\")\n",
    "plt.xlabel(\"Época.\")\n",
    "plt.ylabel(\"Error en %.\")\n",
    "plt.legend()"
   ]
  },
  {
   "cell_type": "code",
   "execution_count": 277,
   "metadata": {},
   "outputs": [
    {
     "data": {
      "text/plain": [
       "<matplotlib.legend.Legend at 0x1a9893a7400>"
      ]
     },
     "execution_count": 277,
     "metadata": {},
     "output_type": "execute_result"
    },
    {
     "data": {
      "image/png": "[encoded data removed]",
      "text/plain": [
       "<Figure size 432x288 with 1 Axes>"
      ]
     },
     "metadata": {
      "needs_background": "light"
     },
     "output_type": "display_data"
    }
   ],
   "source": [
    "epocas = range(1,len(P_V_Leaky_ReLU)+1)\n",
    "\n",
    "plt.plot(epocas, P_V_Leaky_ReLU, label=\"Validación.\")\n",
    "plt.plot(epocas, P_E_Leaky_ReLU, label=\"Entrenamiento\")\n",
    "plt.title(\"Precisión de Validación vs Precisión de Entrenamiento.\")\n",
    "plt.xlabel(\"Época.\")\n",
    "plt.ylabel(\"Precisión en %.\")\n",
    "plt.legend()"
   ]
  },
  {
   "cell_type": "markdown",
   "metadata": {},
   "source": [
    "**Observaciones:**\n",
    "\n",
    "Al igual que con **ReLU**, la regularización con **Dropout** sigue arrojando mejores resultados."
   ]
  },
  {
   "cell_type": "markdown",
   "metadata": {},
   "source": [
    "**CONCLUSIÓN GENERAL:**\n",
    "\n",
    "Realizar dos modelos, uno **sin regularización** y otro con regularización **Dropout**, y **seleccionar el que nos otorgue una mayor precisión en los datos de testeo.**"
   ]
  },
  {
   "cell_type": "code",
   "execution_count": null,
   "metadata": {},
   "outputs": [],
   "source": []
  }
 ],
 "metadata": {
  "kernelspec": {
   "display_name": "Python 3",
   "language": "python",
   "name": "python3"
  },
  "language_info": {
   "codemirror_mode": {
    "name": "ipython",
    "version": 3
   },
   "file_extension": ".py",
   "mimetype": "text/x-python",
   "name": "python",
   "nbconvert_exporter": "python",
   "pygments_lexer": "ipython3",
   "version": "3.8.3"
  }
 },
 "nbformat": 4,
 "nbformat_minor": 4
}
